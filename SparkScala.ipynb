{
 "cells": [
  {
   "cell_type": "code",
   "execution_count": 1,
   "metadata": {},
   "outputs": [],
   "source": [
    "%load_ext sparkmagic.magics"
   ]
  },
  {
   "cell_type": "code",
   "execution_count": 2,
   "metadata": {},
   "outputs": [
    {
     "data": {
      "application/vnd.jupyter.widget-view+json": {
       "model_id": "3ac0dc69632b43929c10e012ff77dd11",
       "version_major": 2,
       "version_minor": 0
      },
      "text/plain": [
       "MagicsControllerWidget(children=(Tab(children=(ManageSessionWidget(children=(HTML(value='<br/>'), HTML(value='…"
      ]
     },
     "metadata": {},
     "output_type": "display_data"
    },
    {
     "name": "stdout",
     "output_type": "stream",
     "text": [
      "Added endpoint http://10.34.14.129:8999\n",
      "Starting Spark application\n"
     ]
    },
    {
     "data": {
      "text/html": [
       "<table>\n",
       "<tr><th>ID</th><th>YARN Application ID</th><th>Kind</th><th>State</th><th>Spark UI</th><th>Driver log</th><th>Current session?</th></tr><tr><td>15</td><td>application_1549965252450_0006</td><td>spark</td><td>idle</td><td><a target=\"_blank\" href=\"http://SYNPUNDT56SZ7R1:8088/proxy/application_1549965252450_0006/\">Link</a></td><td><a target=\"_blank\" href=\"http://SYNPUNDTL902091:8042/node/containerlogs/container_e08_1549965252450_0006_01_000001/livy\">Link</a></td><td>✔</td></tr></table>"
      ],
      "text/plain": [
       "<IPython.core.display.HTML object>"
      ]
     },
     "metadata": {},
     "output_type": "display_data"
    },
    {
     "name": "stdout",
     "output_type": "stream",
     "text": [
      "SparkSession available as 'spark'.\n"
     ]
    }
   ],
   "source": [
    "%manage_spark"
   ]
  },
  {
   "cell_type": "code",
   "execution_count": 5,
   "metadata": {},
   "outputs": [
    {
     "name": "stdout",
     "output_type": "stream",
     "text": [
      "rdd: org.apache.spark.rdd.RDD[String] = /Fannie-Mae/2015Q1/Acquisition_2015Q1.txt MapPartitionsRDD[1] at textFile at <console>:25\n"
     ]
    }
   ],
   "source": [
    "case class Aquisition15"
   ]
  },
  {
   "cell_type": "code",
   "execution_count": 6,
   "metadata": {},
   "outputs": [
    {
     "name": "stdout",
     "output_type": "stream",
     "text": [
      "res1: Array[String] = Array(100002091588|R|OTHER|4.125|345000|360|12/2014|02/2015|95|95|1|32|652|N|P|PU|1|P|NC|282|30|FRM||1|N, 100004219574|R|WELLS FARGO BANK, N.A.|4.125|293000|312|12/2014|02/2015|77|77|2|34|732|N|R|PU|1|P|IL|605||FRM|723||N, 100004457300|C|WELLS FARGO BANK, N.A.|3.875|304000|360|11/2014|01/2015|80|80|1|42|813|N|P|SF|1|P|GA|300||FRM|||N, 100006803390|R|OTHER|4.375|110000|360|10/2014|12/2014|65|65|2|28|760|N|C|SF|1|P|VA|229||FRM|736||N, 100008763886|R|QUICKEN LOANS INC.|4.375|325000|348|01/2015|03/2015|72|72|2|29|734|N|R|SF|1|P|CA|936||FRM|797||N, 100013998431|R|CITIMORTGAGE, INC.|3.125|129000|180|03/2015|05/2015|86|86|2|34|797|N|R|SF|1|P|WI|549|12|FRM|793|1|N, 100013999247|R|OTHER|4.125|80000|360|12/2014|02/2015|38|38|2|35|738|N|C|SF|1|P|IN|461||FRM|753||N, 1000148730..."
     ]
    }
   ],
   "source": [
    "val df = sc.textFile(\"/Fannie-Mae/2015Q1/Acquisition_2015Q1.txt\")."
   ]
  },
  {
   "cell_type": "code",
   "execution_count": null,
   "metadata": {},
   "outputs": [],
   "source": []
  }
 ],
 "metadata": {
  "kernelspec": {
   "display_name": "PySpark",
   "language": "",
   "name": "pysparkkernel"
  },
  "language_info": {
   "codemirror_mode": {
    "name": "python",
    "version": 2
   },
   "mimetype": "text/x-python",
   "name": "pyspark",
   "pygments_lexer": "python2"
  }
 },
 "nbformat": 4,
 "nbformat_minor": 2
}
