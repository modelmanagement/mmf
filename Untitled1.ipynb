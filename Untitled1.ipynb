{
 "cells": [
  {
   "cell_type": "code",
   "execution_count": 1,
   "metadata": {},
   "outputs": [],
   "source": [
    "import os"
   ]
  },
  {
   "cell_type": "code",
   "execution_count": 2,
   "metadata": {},
   "outputs": [
    {
     "data": {
      "text/plain": [
       "environ({'GITHUB_ACCESS_TOKEN': '3f6daefc0cbaea486435c48064ecaad654d2dcc4', 'SHELL': '/bin/bash', 'GIT_PARENT_DIR': '/home/modelmanagement/mmf/', 'DERBY_HOME': '/usr/lib/jvm/java-8-oracle/db', 'JPY_API_TOKEN': '488eb765f5ce46e2b1d1f1daf0d64360', 'USER': 'modelmanagement', 'JUPYTERHUB_BASE_URL': '/', 'JUPYTERHUB_CLIENT_ID': 'jupyterhub-user-modelmanagement', 'GIT_REMOTE_URL': 'git@github.com:modelmanagement/mmf.git', 'JUPYTERHUB_API_TOKEN': '488eb765f5ce46e2b1d1f1daf0d64360', 'PATH': '/home/modelmanagement/bin:/home/modelmanagement/.local/bin:/etc/Applications/Anaconda3/bin:/etc/Applications/Anaconda3/condabin:/usr/local/sbin:/usr/local/bin:/usr/sbin:/usr/bin:/sbin:/bin:/snap/bin:/usr/lib/jvm/java-8-oracle/bin:/usr/lib/jvm/java-8-oracle/db/bin:/usr/lib/jvm/java-8-oracle/jre/bin:/usr/lib/jvm/java-8-oracle/bin:/usr/lib/jvm/java-8-oracle/db/bin:/usr/lib/jvm/java-8-oracle/jre/bin', 'GIT_REPO_NAME': 'mmf', 'QT_QPA_PLATFORMTHEME': 'appmenu-qt5', 'PWD': '/home/modelmanagement', 'GIT_DIRECTORY_HOME': '/home/modelmanagement', 'JAVA_HOME': '/usr/lib/jvm/java-8-oracle', 'GIT_REMOTE_UPSTREAM': 'modelmanagement/mmf', 'LANG': 'en_US.UTF-8', 'GIT_BRANCH_NAME': 'features/model-dev', 'JUPYTERHUB_API_URL': 'http://127.0.0.1:8081/hub/api', 'SHLVL': '1', 'HOME': '/home/modelmanagement', 'GIT_USER': 'modelmanagement', 'JUPYTERHUB_USER': 'modelmanagement', 'J2SDKDIR': '/usr/lib/jvm/java-8-oracle', 'XDG_DATA_DIRS': '/usr/local/share:/usr/share:/var/lib/snapd/desktop', 'CONDA_DEFAULT_ENV': 'base', 'JUPYTERHUB_OAUTH_CALLBACK_URL': '/user/modelmanagement/oauth_callback', 'J2REDIR': '/usr/lib/jvm/java-8-oracle/jre', 'JUPYTERHUB_HOST': '', 'JUPYTERHUB_SERVICE_PREFIX': '/user/modelmanagement/', '_': '/etc/Applications/Anaconda3/bin/jupyterhub-singleuser', 'JPY_PARENT_PID': '31754', 'TERM': 'xterm-color', 'CLICOLOR': '1', 'PAGER': 'cat', 'GIT_PAGER': 'cat', 'MPLBACKEND': 'module://ipykernel.pylab.backend_inline'})"
      ]
     },
     "execution_count": 2,
     "metadata": {},
     "output_type": "execute_result"
    }
   ],
   "source": [
    "os.environ"
   ]
  },
  {
   "cell_type": "code",
   "execution_count": null,
   "metadata": {},
   "outputs": [],
   "source": []
  }
 ],
 "metadata": {
  "kernelspec": {
   "display_name": "Python 3",
   "language": "python",
   "name": "python3"
  },
  "language_info": {
   "codemirror_mode": {
    "name": "ipython",
    "version": 3
   },
   "file_extension": ".py",
   "mimetype": "text/x-python",
   "name": "python",
   "nbconvert_exporter": "python",
   "pygments_lexer": "ipython3",
   "version": "3.7.2"
  }
 },
 "nbformat": 4,
 "nbformat_minor": 2
}
