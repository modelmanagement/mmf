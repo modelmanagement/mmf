{
 "cells": [
  {
   "cell_type": "code",
   "execution_count": 28,
   "metadata": {},
   "outputs": [],
   "source": [
    "import pandas as pd\n",
    "import mlflow\n",
    "import io\n",
    "import os\n",
    "import seaborn as sns\n",
    "import numpy as np\n",
    "import warnings\n",
    "from sklearn.linear_model import LogisticRegression\n",
    "from sklearn.linear_model import LinearRegression\n",
    "from sklearn.model_selection import train_test_split\n",
    "from sklearn.metrics import average_precision_score\n",
    "warnings.filterwarnings(\"ignore\")"
   ]
  },
  {
   "cell_type": "code",
   "execution_count": 6,
   "metadata": {},
   "outputs": [],
   "source": [
    "col_acq = ['LoanID','Channel','SellerName','OrInterestRate','OrUnpaidPrinc','OrLoanTerm',\n",
    "        'OrDate','FirstPayment','OrLTV','OrCLTV','NumBorrow','DTIRat','CreditScore',\n",
    "        'FTHomeBuyer','LoanPurpose','PropertyType','NumUnits','OccStatus','PropertyState',\n",
    "        'Zip','MortInsPerc','ProductType','CoCreditScore','MortInsType','RelMortInd'];\n",
    "\n",
    "col_per = ['LoanID','ReportingDate','Servicer','CurrInterestRate','CAUPB','LoanAge','MonthsToMaturity',\n",
    "          'AdMonthsToMaturity','MaturityDate','MSA','CurDelStatus','ModFlag','ZeroBalCode','ZeroBalEffDate',\n",
    "          'LastInstallDate','ForeclosureDate','DispositionDate','ForeclosureCost','RepairCost','AssetRecCost','MiscCostsPF',\n",
    "          'ATFHP','NetSaleProceeds','CreditEnhProceeds','RPMWP','OtherForePro','NonInterestUPB','PricipleForgiven','RMWPF',\n",
    "          'FPWA','ServicingIndicator'];"
   ]
  },
  {
   "cell_type": "code",
   "execution_count": 7,
   "metadata": {},
   "outputs": [],
   "source": [
    "os.chdir(\"/Users/devanshsethi/desktop/FNMA\")"
   ]
  },
  {
   "cell_type": "code",
   "execution_count": 8,
   "metadata": {},
   "outputs": [],
   "source": [
    "def read_txt(kind, year, quarter):\n",
    "    type_dict = {'a': 'Acquisition',\n",
    "                 'p': 'Performance'}\n",
    "\n",
    "    col_dict = {'a': col_acq,\n",
    "                'p': col_per}\n",
    "\n",
    "    link = '{}_{}Q{}.txt'.format(type_dict[kind], year, quarter)\n",
    "\n",
    "    #file = io.BytesIO(fs.cat(link))\n",
    "    file = open(link,'r')\n",
    "    chunk_s = 200000\n",
    "    chunks = []\n",
    "\n",
    "    for chunk in reader:\n",
    "        chunks.append(chunk)\n",
    "\n",
    "    df = pd.concat(chunks, axis=0)\n",
    "\n",
    "    return df\n"
   ]
  },
  {
   "cell_type": "code",
   "execution_count": 9,
   "metadata": {},
   "outputs": [],
   "source": [
    "# acq = pd.DataFrame()\n",
    "# per = pd.DataFrame()\n",
    "# for i in range(1,2):\n",
    "#     acq = acq.append(read_txt('a',2004,i))\n",
    "#     per = per.append(read_txt('p',2004,i))\n",
    "# per.drop_duplicates(subset='LoanID', keep='last', inplace=True)\n",
    "# df = pd.merge(acq, per, on='LoanID', how='inner')"
   ]
  },
  {
   "cell_type": "code",
   "execution_count": 10,
   "metadata": {},
   "outputs": [],
   "source": [
    "# df.to_csv(\"Dataset.csv\")"
   ]
  },
  {
   "cell_type": "code",
   "execution_count": 11,
   "metadata": {},
   "outputs": [],
   "source": [
    "df = pd.read_csv(\"Dataset.csv\")"
   ]
  },
  {
   "cell_type": "code",
   "execution_count": 12,
   "metadata": {},
   "outputs": [],
   "source": [
    "df = df[['LoanID','Channel','SellerName','OrInterestRate','OrUnpaidPrinc','OrLoanTerm', 'OrDate',\n",
    "    'FirstPayment','OrCLTV','NumBorrow','DTIRat','CreditScore',\n",
    "    'FTHomeBuyer','LoanPurpose','PropertyType','NumUnits','OccStatus','PropertyState',\n",
    "    'Zip','RelMortInd','LoanAge','MonthsToMaturity','AdMonthsToMaturity','ForeclosureDate']]"
   ]
  },
  {
   "cell_type": "code",
   "execution_count": 13,
   "metadata": {},
   "outputs": [],
   "source": [
    "df.rename(index=str, columns={\"ForeclosureDate\": 'Default'}, inplace=True)"
   ]
  },
  {
   "cell_type": "code",
   "execution_count": 14,
   "metadata": {},
   "outputs": [],
   "source": [
    "df['Default'].fillna(0, inplace=True)\n",
    "df.loc[df['Default'] != 0, 'Default'] = 1\n",
    "\n",
    "df['Default'] = df['Default'].astype(int)"
   ]
  },
  {
   "cell_type": "code",
   "execution_count": 15,
   "metadata": {},
   "outputs": [
    {
     "data": {
      "text/html": [
       "<div>\n",
       "<style scoped>\n",
       "    .dataframe tbody tr th:only-of-type {\n",
       "        vertical-align: middle;\n",
       "    }\n",
       "\n",
       "    .dataframe tbody tr th {\n",
       "        vertical-align: top;\n",
       "    }\n",
       "\n",
       "    .dataframe thead th {\n",
       "        text-align: right;\n",
       "    }\n",
       "</style>\n",
       "<table border=\"1\" class=\"dataframe\">\n",
       "  <thead>\n",
       "    <tr style=\"text-align: right;\">\n",
       "      <th></th>\n",
       "      <th>LoanID</th>\n",
       "      <th>Channel</th>\n",
       "      <th>SellerName</th>\n",
       "      <th>OrInterestRate</th>\n",
       "      <th>OrUnpaidPrinc</th>\n",
       "      <th>OrLoanTerm</th>\n",
       "      <th>OrDate</th>\n",
       "      <th>FirstPayment</th>\n",
       "      <th>OrCLTV</th>\n",
       "      <th>NumBorrow</th>\n",
       "      <th>...</th>\n",
       "      <th>LoanPurpose</th>\n",
       "      <th>PropertyType</th>\n",
       "      <th>NumUnits</th>\n",
       "      <th>OccStatus</th>\n",
       "      <th>PropertyState</th>\n",
       "      <th>Zip</th>\n",
       "      <th>RelMortInd</th>\n",
       "      <th>LoanAge</th>\n",
       "      <th>MonthsToMaturity</th>\n",
       "      <th>AdMonthsToMaturity</th>\n",
       "    </tr>\n",
       "    <tr>\n",
       "      <th>Default</th>\n",
       "      <th></th>\n",
       "      <th></th>\n",
       "      <th></th>\n",
       "      <th></th>\n",
       "      <th></th>\n",
       "      <th></th>\n",
       "      <th></th>\n",
       "      <th></th>\n",
       "      <th></th>\n",
       "      <th></th>\n",
       "      <th></th>\n",
       "      <th></th>\n",
       "      <th></th>\n",
       "      <th></th>\n",
       "      <th></th>\n",
       "      <th></th>\n",
       "      <th></th>\n",
       "      <th></th>\n",
       "      <th></th>\n",
       "      <th></th>\n",
       "      <th></th>\n",
       "    </tr>\n",
       "  </thead>\n",
       "  <tbody>\n",
       "    <tr>\n",
       "      <th>0</th>\n",
       "      <td>441459</td>\n",
       "      <td>441459</td>\n",
       "      <td>441459</td>\n",
       "      <td>441459</td>\n",
       "      <td>441459</td>\n",
       "      <td>441459</td>\n",
       "      <td>441459</td>\n",
       "      <td>441459</td>\n",
       "      <td>441449</td>\n",
       "      <td>441452</td>\n",
       "      <td>...</td>\n",
       "      <td>441459</td>\n",
       "      <td>441459</td>\n",
       "      <td>441459</td>\n",
       "      <td>441459</td>\n",
       "      <td>441459</td>\n",
       "      <td>441459</td>\n",
       "      <td>441459</td>\n",
       "      <td>441459</td>\n",
       "      <td>441428</td>\n",
       "      <td>436366</td>\n",
       "    </tr>\n",
       "    <tr>\n",
       "      <th>1</th>\n",
       "      <td>11015</td>\n",
       "      <td>11015</td>\n",
       "      <td>11015</td>\n",
       "      <td>11015</td>\n",
       "      <td>11015</td>\n",
       "      <td>11015</td>\n",
       "      <td>11015</td>\n",
       "      <td>11015</td>\n",
       "      <td>11015</td>\n",
       "      <td>11015</td>\n",
       "      <td>...</td>\n",
       "      <td>11015</td>\n",
       "      <td>11015</td>\n",
       "      <td>11015</td>\n",
       "      <td>11015</td>\n",
       "      <td>11015</td>\n",
       "      <td>11015</td>\n",
       "      <td>11015</td>\n",
       "      <td>11015</td>\n",
       "      <td>11010</td>\n",
       "      <td>11015</td>\n",
       "    </tr>\n",
       "  </tbody>\n",
       "</table>\n",
       "<p>2 rows × 23 columns</p>\n",
       "</div>"
      ],
      "text/plain": [
       "         LoanID  Channel  SellerName  OrInterestRate  OrUnpaidPrinc  \\\n",
       "Default                                                               \n",
       "0        441459   441459      441459          441459         441459   \n",
       "1         11015    11015       11015           11015          11015   \n",
       "\n",
       "         OrLoanTerm  OrDate  FirstPayment  OrCLTV  NumBorrow  \\\n",
       "Default                                                        \n",
       "0            441459  441459        441459  441449     441452   \n",
       "1             11015   11015         11015   11015      11015   \n",
       "\n",
       "                ...          LoanPurpose  PropertyType  NumUnits  OccStatus  \\\n",
       "Default         ...                                                           \n",
       "0               ...               441459        441459    441459     441459   \n",
       "1               ...                11015         11015     11015      11015   \n",
       "\n",
       "         PropertyState     Zip  RelMortInd  LoanAge  MonthsToMaturity  \\\n",
       "Default                                                                 \n",
       "0               441459  441459      441459   441459            441428   \n",
       "1                11015   11015       11015    11015             11010   \n",
       "\n",
       "         AdMonthsToMaturity  \n",
       "Default                      \n",
       "0                    436366  \n",
       "1                     11015  \n",
       "\n",
       "[2 rows x 23 columns]"
      ]
     },
     "execution_count": 15,
     "metadata": {},
     "output_type": "execute_result"
    }
   ],
   "source": [
    "df.groupby(\"Default\").count()"
   ]
  },
  {
   "cell_type": "code",
   "execution_count": 16,
   "metadata": {},
   "outputs": [
    {
     "data": {
      "text/plain": [
       "<matplotlib.axes._subplots.AxesSubplot at 0x1a15f28400>"
      ]
     },
     "execution_count": 16,
     "metadata": {},
     "output_type": "execute_result"
    },
    {
     "data": {
      "image/png": "[encoded data removed]",
      "text/plain": [
       "<Figure size 432x288 with 1 Axes>"
      ]
     },
     "metadata": {
      "needs_background": "light"
     },
     "output_type": "display_data"
    }
   ],
   "source": [
    "sns.countplot(df[\"Default\"])"
   ]
  },
  {
   "cell_type": "code",
   "execution_count": 17,
   "metadata": {},
   "outputs": [],
   "source": [
    "df.drop(['OrDate','FirstPayment','LoanID','Zip'], axis=1, inplace=True)"
   ]
  },
  {
   "cell_type": "code",
   "execution_count": 18,
   "metadata": {},
   "outputs": [],
   "source": [
    "def getdummies(df):\n",
    "    columns = df.columns[df.isnull().any()]\n",
    "    nan_cols = df[columns]\n",
    "\n",
    "    df.drop(nan_cols.columns, axis=1, inplace=True)\n",
    "\n",
    "    cat = df.select_dtypes(include=['object'])\n",
    "    num = df.drop(cat.columns, axis=1)\n",
    "\n",
    "    data = pd.DataFrame()\n",
    "    for i in cat.columns:\n",
    "        tmp = pd.get_dummies(cat[i], drop_first=True)\n",
    "        data = pd.concat([data, tmp], axis=1)\n",
    "\n",
    "    df = pd.concat([num,data,nan_cols], axis=1).reset_index(drop=True)\n",
    "    return df"
   ]
  },
  {
   "cell_type": "code",
   "execution_count": 19,
   "metadata": {},
   "outputs": [],
   "source": [
    "def fillnan(df):\n",
    "    columns = df.columns[df.isnull().any()]\n",
    "    for name in columns:\n",
    "        y = df.loc[df[name].notnull(), name].values\n",
    "        X = df.loc[df[name].notnull()].drop(columns, axis=1).values\n",
    "        X_test = df.loc[df[name].isnull()].drop(columns, axis=1).values\n",
    "        if df[name].dtypes == 'object':\n",
    "            model = LogisticRegression(random_state=0)\n",
    "            model.fit(X, y)\n",
    "            df.loc[df[name].isnull(), name] = model.predict(X_test)\n",
    "        else:\n",
    "            model = LinearRegression()\n",
    "            model.fit(X, y)\n",
    "            df.loc[df[name].isnull(), name] = model.predict(X_test)\n",
    "    return df"
   ]
  },
  {
   "cell_type": "markdown",
   "metadata": {},
   "source": [
    "### Subsetting dataset below, please remove if necessary"
   ]
  },
  {
   "cell_type": "code",
   "execution_count": 20,
   "metadata": {},
   "outputs": [],
   "source": [
    "df = df[1:10000]"
   ]
  },
  {
   "cell_type": "code",
   "execution_count": 21,
   "metadata": {},
   "outputs": [],
   "source": [
    "df = getdummies(df)"
   ]
  },
  {
   "cell_type": "code",
   "execution_count": 22,
   "metadata": {},
   "outputs": [],
   "source": [
    "df = fillnan(df)"
   ]
  },
  {
   "cell_type": "code",
   "execution_count": 23,
   "metadata": {},
   "outputs": [
    {
     "name": "stderr",
     "output_type": "stream",
     "text": [
      "IOPub data rate exceeded.\n",
      "The notebook server will temporarily stop sending output\n",
      "to the client in order to avoid crashing it.\n",
      "To change this limit, set the config variable\n",
      "`--NotebookApp.iopub_data_rate_limit`.\n",
      "\n",
      "Current values:\n",
      "NotebookApp.iopub_data_rate_limit=1000000.0 (bytes/sec)\n",
      "NotebookApp.rate_limit_window=3.0 (secs)\n",
      "\n"
     ]
    }
   ],
   "source": [
    "from imblearn.combine import SMOTEENN\n",
    "sm = SMOTEENN()\n",
    "\n",
    "y = df['Default'].values\n",
    "X = df.drop(['Default'], axis=1).values\n",
    "\n",
    "print(list(X))\n",
    "\n",
    "X_resampled, y_resampled = sm.fit_sample(X, y)"
   ]
  },
  {
   "cell_type": "code",
   "execution_count": 24,
   "metadata": {},
   "outputs": [],
   "source": [
    "X_train, X_test, y_train, y_test = train_test_split(X_resampled, y_resampled, test_size = 0.25, random_state=0)\n",
    "\n",
    "with mlflow.startrun():    \n",
    "    model = LogisticRegression(random_state = 0)\n",
    "    model = model.fit(X_train, y_train)\n",
    "    predict = model.predict(X_test)\n",
    "    precision = average_precision_score(y_test, predict)\n",
    "    \n",
    "    mlflow.log_metric(\"Precision Score\", precision)\n",
    "    mlflow.sklearn.log_model(model, \"Logistic_Model\")"
   ]
  },
  {
   "cell_type": "code",
   "execution_count": null,
   "metadata": {
    "scrolled": true
   },
   "outputs": [],
   "source": [
    "# cm = confusion_matrix(y_test, predict).T\n",
    "# cm = cm.astype('float')/cm.sum(axis=0)\n",
    "\n",
    "# fig, ax = mp.subplots()\n",
    "# sns.heatmap(cm, annot=True, cmap='Blues');\n",
    "# ax.set_xlabel('True Label')\n",
    "# ax.set_ylabel('Predicted Label')\n",
    "# ax.xaxis.set_label_position('top')"
   ]
  },
  {
   "cell_type": "code",
   "execution_count": null,
   "metadata": {},
   "outputs": [],
   "source": []
  }
 ],
 "metadata": {
  "kernelspec": {
   "display_name": "Python 3",
   "language": "python",
   "name": "python3"
  },
  "language_info": {
   "codemirror_mode": {
    "name": "ipython",
    "version": 3
   },
   "file_extension": ".py",
   "mimetype": "text/x-python",
   "name": "python",
   "nbconvert_exporter": "python",
   "pygments_lexer": "ipython3",
   "version": "3.7.2"
  }
 },
 "nbformat": 4,
 "nbformat_minor": 2
}
