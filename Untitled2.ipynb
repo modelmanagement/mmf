{
 "cells": [
  {
   "cell_type": "code",
   "execution_count": 1,
   "metadata": {},
   "outputs": [],
   "source": [
    "import os\n"
   ]
  },
  {
   "cell_type": "code",
   "execution_count": 2,
   "metadata": {},
   "outputs": [
    {
     "data": {
      "text/plain": [
       "environ({'GITHUB_ACCESS_TOKEN': '793cb1ccd5609c14f743f3707c02643f557ad2bc', 'SHELL': '/bin/bash', 'GIT_PARENT_DIR': '/home/roshanig/mmf/', 'DERBY_HOME': '/usr/lib/jvm/java-8-oracle/db', 'JPY_API_TOKEN': '4f149bca36684749a2bd9beb4f665eba', 'USER': 'roshanig', 'JUPYTERHUB_BASE_URL': '/', 'JUPYTERHUB_CLIENT_ID': 'jupyterhub-user-roshanig', 'GIT_REMOTE_URL': 'git@github.com:modelmanagement/mmf.git', 'JUPYTERHUB_API_TOKEN': '4f149bca36684749a2bd9beb4f665eba', 'PATH': '/home/roshanig/bin:/home/roshanig/.local/bin:/etc/Applications/Anaconda3/bin:/etc/Applications/Anaconda3/condabin:/usr/local/sbin:/usr/local/bin:/usr/sbin:/usr/bin:/sbin:/bin:/snap/bin:/usr/lib/jvm/java-8-oracle/bin:/usr/lib/jvm/java-8-oracle/db/bin:/usr/lib/jvm/java-8-oracle/jre/bin:/usr/lib/jvm/java-8-oracle/bin:/usr/lib/jvm/java-8-oracle/db/bin:/usr/lib/jvm/java-8-oracle/jre/bin', 'GIT_REPO_NAME': 'mmf', 'QT_QPA_PLATFORMTHEME': 'appmenu-qt5', 'PWD': '/home/roshanig', 'GIT_DIRECTORY_HOME': '/home/roshanig', 'JAVA_HOME': '/usr/lib/jvm/java-8-oracle', 'GIT_REMOTE_UPSTREAM': 'modelmanagement/mmf', 'LANG': 'en_US.UTF-8', 'GIT_BRANCH_NAME': 'features/roshani-dev', 'JUPYTERHUB_API_URL': 'http://127.0.0.1:8081/hub/api', 'SHLVL': '1', 'HOME': '/home/roshanig', 'GIT_USER': 'RoshaniG', 'JUPYTERHUB_USER': 'roshanig', 'J2SDKDIR': '/usr/lib/jvm/java-8-oracle', 'XDG_DATA_DIRS': '/usr/local/share:/usr/share:/var/lib/snapd/desktop', 'CONDA_DEFAULT_ENV': 'base', 'JUPYTERHUB_OAUTH_CALLBACK_URL': '/user/roshanig/oauth_callback', 'J2REDIR': '/usr/lib/jvm/java-8-oracle/jre', 'JUPYTERHUB_HOST': '', 'JUPYTERHUB_SERVICE_PREFIX': '/user/roshanig/', '_': '/etc/Applications/Anaconda3/bin/jupyterhub-singleuser', 'JPY_PARENT_PID': '4783', 'TERM': 'xterm-color', 'CLICOLOR': '1', 'PAGER': 'cat', 'GIT_PAGER': 'cat', 'MPLBACKEND': 'module://ipykernel.pylab.backend_inline'})"
      ]
     },
     "execution_count": 2,
     "metadata": {},
     "output_type": "execute_result"
    }
   ],
   "source": [
    "os.environ"
   ]
  },
  {
   "cell_type": "code",
   "execution_count": null,
   "metadata": {},
   "outputs": [],
   "source": []
  }
 ],
 "metadata": {
  "kernelspec": {
   "display_name": "Python 3",
   "language": "python",
   "name": "python3"
  },
  "language_info": {
   "codemirror_mode": {
    "name": "ipython",
    "version": 3
   },
   "file_extension": ".py",
   "mimetype": "text/x-python",
   "name": "python",
   "nbconvert_exporter": "python",
   "pygments_lexer": "ipython3",
   "version": "3.7.2"
  }
 },
 "nbformat": 4,
 "nbformat_minor": 2
}
