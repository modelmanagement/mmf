{
 "cells": [
  {
   "cell_type": "code",
   "execution_count": null,
   "metadata": {
    "ExecuteTime": {
     "end_time": "2019-03-06T09:48:03.571885Z",
     "start_time": "2019-03-06T09:48:03.383546Z"
    }
   },
   "outputs": [],
   "source": [
    "%load_ext sparkmagic.magics\n",
    "%manage_spark"
   ]
  },
  {
   "cell_type": "code",
   "execution_count": null,
   "metadata": {
    "ExecuteTime": {
     "end_time": "2019-03-06T09:53:48.005033Z",
     "start_time": "2019-03-06T09:53:47.968016Z"
    }
   },
   "outputs": [],
   "source": [
    "spark.sparkContext._conf.set(\"spark.serializer\", \"org.apache.spark.serializer.KryoSerializer\")"
   ]
  },
  {
   "cell_type": "code",
   "execution_count": null,
   "metadata": {
    "ExecuteTime": {
     "end_time": "2019-03-06T10:02:13.182894Z",
     "start_time": "2019-03-06T10:01:39.731403Z"
    }
   },
   "outputs": [],
   "source": [
    "df = spark.read.load(\"/Fannie-Mae/2017/Output.csv/part*\", format=\"csv\")\n",
    "\n",
    "df.write.parquet(\"/Fannie-Mae/2017/ParquetResult_2017.parquet\", mode=\"overwrite\")"
   ]
  },
  {
   "cell_type": "code",
   "execution_count": null,
   "metadata": {
    "ExecuteTime": {
     "end_time": "2019-03-06T10:02:59.010241Z",
     "start_time": "2019-03-06T10:02:56.724633Z"
    }
   },
   "outputs": [],
   "source": [
    "df2 = spark.read.parquet(\"/Fannie-Mae/2017/ParquetResult_2017.parquet/part*\")\n",
    "\n",
    "df2.show(10)"
   ]
  },
  {
   "cell_type": "code",
   "execution_count": null,
   "metadata": {},
   "outputs": [],
   "source": []
  }
 ],
 "metadata": {
  "kernelspec": {
   "display_name": "PySpark",
   "language": "",
   "name": "pysparkkernel"
  },
  "language_info": {
   "codemirror_mode": {
    "name": "python",
    "version": 2
   },
   "mimetype": "text/x-python",
   "name": "pyspark",
   "pygments_lexer": "python2"
  }
 },
 "nbformat": 4,
 "nbformat_minor": 2
}
