{
 "cells": [
  {
   "cell_type": "code",
   "execution_count": 1,
   "metadata": {
    "ExecuteTime": {
     "end_time": "2019-03-06T07:28:48.814461Z",
     "start_time": "2019-03-06T07:28:48.567741Z"
    }
   },
   "outputs": [],
   "source": [
    "%load_ext sparkmagic.magics"
   ]
  },
  {
   "cell_type": "code",
   "execution_count": 22,
   "metadata": {
    "ExecuteTime": {
     "end_time": "2019-03-06T09:27:25.434210Z",
     "start_time": "2019-03-06T09:27:25.397931Z"
    }
   },
   "outputs": [
    {
     "data": {
      "application/vnd.jupyter.widget-view+json": {
       "model_id": "d05c79bd9b8643d3b39dbd5e719d2bee",
       "version_major": 2,
       "version_minor": 0
      },
      "text/plain": [
       "MagicsControllerWidget(children=(Tab(children=(ManageSessionWidget(children=(HTML(value='<br/>'), HTML(value='…"
      ]
     },
     "metadata": {},
     "output_type": "display_data"
    },
    {
     "ename": "HttpClientException",
     "evalue": "Invalid status code '404' from http://10.34.14.129:8999/sessions/0 with error payload: \"Session '0' not found.\"",
     "output_type": "error",
     "traceback": [
      "\u001b[0;31m---------------------------------------------------------------------------\u001b[0m",
      "\u001b[0;31mHttpClientException\u001b[0m                       Traceback (most recent call last)",
      "\u001b[0;32m/etc/Applications/Anaconda3/lib/python3.7/site-packages/sparkmagic/controllerwidget/manageendpointwidget.py\u001b[0m in \u001b[0;36mdelete_endpoint\u001b[0;34m(button)\u001b[0m\n\u001b[1;32m    111\u001b[0m             \u001b[0;32mtry\u001b[0m\u001b[0;34m:\u001b[0m\u001b[0;34m\u001b[0m\u001b[0;34m\u001b[0m\u001b[0m\n\u001b[1;32m    112\u001b[0m                 \u001b[0mid\u001b[0m \u001b[0;34m=\u001b[0m \u001b[0msession_text\u001b[0m\u001b[0;34m.\u001b[0m\u001b[0mvalue\u001b[0m\u001b[0;34m\u001b[0m\u001b[0;34m\u001b[0m\u001b[0m\n\u001b[0;32m--> 113\u001b[0;31m                 \u001b[0mself\u001b[0m\u001b[0;34m.\u001b[0m\u001b[0mspark_controller\u001b[0m\u001b[0;34m.\u001b[0m\u001b[0mdelete_session_by_id\u001b[0m\u001b[0;34m(\u001b[0m\u001b[0mendpoint\u001b[0m\u001b[0;34m,\u001b[0m \u001b[0mid\u001b[0m\u001b[0;34m)\u001b[0m\u001b[0;34m\u001b[0m\u001b[0;34m\u001b[0m\u001b[0m\n\u001b[0m\u001b[1;32m    114\u001b[0m                 \u001b[0mself\u001b[0m\u001b[0;34m.\u001b[0m\u001b[0mipython_display\u001b[0m\u001b[0;34m.\u001b[0m\u001b[0mwriteln\u001b[0m\u001b[0;34m(\u001b[0m\u001b[0;34m\"Deleted session {} at {}\"\u001b[0m\u001b[0;34m.\u001b[0m\u001b[0mformat\u001b[0m\u001b[0;34m(\u001b[0m\u001b[0mid\u001b[0m\u001b[0;34m,\u001b[0m \u001b[0murl\u001b[0m\u001b[0;34m)\u001b[0m\u001b[0;34m)\u001b[0m\u001b[0;34m\u001b[0m\u001b[0;34m\u001b[0m\u001b[0m\n\u001b[1;32m    115\u001b[0m             \u001b[0;32mexcept\u001b[0m \u001b[0mValueError\u001b[0m \u001b[0;32mas\u001b[0m \u001b[0me\u001b[0m\u001b[0;34m:\u001b[0m\u001b[0;34m\u001b[0m\u001b[0;34m\u001b[0m\u001b[0m\n",
      "\u001b[0;32m/etc/Applications/Anaconda3/lib/python3.7/site-packages/sparkmagic/livyclientlib/sparkcontroller.py\u001b[0m in \u001b[0;36mdelete_session_by_id\u001b[0;34m(self, endpoint, session_id)\u001b[0m\n\u001b[1;32m     71\u001b[0m         \u001b[0;32melse\u001b[0m\u001b[0;34m:\u001b[0m\u001b[0;34m\u001b[0m\u001b[0;34m\u001b[0m\u001b[0m\n\u001b[1;32m     72\u001b[0m             \u001b[0mhttp_client\u001b[0m \u001b[0;34m=\u001b[0m \u001b[0mself\u001b[0m\u001b[0;34m.\u001b[0m\u001b[0m_http_client\u001b[0m\u001b[0;34m(\u001b[0m\u001b[0mendpoint\u001b[0m\u001b[0;34m)\u001b[0m\u001b[0;34m\u001b[0m\u001b[0;34m\u001b[0m\u001b[0m\n\u001b[0;32m---> 73\u001b[0;31m             \u001b[0mresponse\u001b[0m \u001b[0;34m=\u001b[0m \u001b[0mhttp_client\u001b[0m\u001b[0;34m.\u001b[0m\u001b[0mget_session\u001b[0m\u001b[0;34m(\u001b[0m\u001b[0msession_id\u001b[0m\u001b[0;34m)\u001b[0m\u001b[0;34m\u001b[0m\u001b[0;34m\u001b[0m\u001b[0m\n\u001b[0m\u001b[1;32m     74\u001b[0m             \u001b[0mhttp_client\u001b[0m \u001b[0;34m=\u001b[0m \u001b[0mself\u001b[0m\u001b[0;34m.\u001b[0m\u001b[0m_http_client\u001b[0m\u001b[0;34m(\u001b[0m\u001b[0mendpoint\u001b[0m\u001b[0;34m)\u001b[0m\u001b[0;34m\u001b[0m\u001b[0;34m\u001b[0m\u001b[0m\n\u001b[1;32m     75\u001b[0m             session = self._livy_session(http_client, {constants.LIVY_KIND_PARAM: response[constants.LIVY_KIND_PARAM]},\n",
      "\u001b[0;32m/etc/Applications/Anaconda3/lib/python3.7/site-packages/sparkmagic/livyclientlib/livyreliablehttpclient.py\u001b[0m in \u001b[0;36mget_session\u001b[0;34m(self, session_id)\u001b[0m\n\u001b[1;32m     37\u001b[0m \u001b[0;34m\u001b[0m\u001b[0m\n\u001b[1;32m     38\u001b[0m     \u001b[0;32mdef\u001b[0m \u001b[0mget_session\u001b[0m\u001b[0;34m(\u001b[0m\u001b[0mself\u001b[0m\u001b[0;34m,\u001b[0m \u001b[0msession_id\u001b[0m\u001b[0;34m)\u001b[0m\u001b[0;34m:\u001b[0m\u001b[0;34m\u001b[0m\u001b[0;34m\u001b[0m\u001b[0m\n\u001b[0;32m---> 39\u001b[0;31m         \u001b[0;32mreturn\u001b[0m \u001b[0mself\u001b[0m\u001b[0;34m.\u001b[0m\u001b[0m_http_client\u001b[0m\u001b[0;34m.\u001b[0m\u001b[0mget\u001b[0m\u001b[0;34m(\u001b[0m\u001b[0mself\u001b[0m\u001b[0;34m.\u001b[0m\u001b[0m_session_url\u001b[0m\u001b[0;34m(\u001b[0m\u001b[0msession_id\u001b[0m\u001b[0;34m)\u001b[0m\u001b[0;34m,\u001b[0m \u001b[0;34m[\u001b[0m\u001b[0;36m200\u001b[0m\u001b[0;34m]\u001b[0m\u001b[0;34m)\u001b[0m\u001b[0;34m.\u001b[0m\u001b[0mjson\u001b[0m\u001b[0;34m(\u001b[0m\u001b[0;34m)\u001b[0m\u001b[0;34m\u001b[0m\u001b[0;34m\u001b[0m\u001b[0m\n\u001b[0m\u001b[1;32m     40\u001b[0m \u001b[0;34m\u001b[0m\u001b[0m\n\u001b[1;32m     41\u001b[0m     \u001b[0;32mdef\u001b[0m \u001b[0mdelete_session\u001b[0m\u001b[0;34m(\u001b[0m\u001b[0mself\u001b[0m\u001b[0;34m,\u001b[0m \u001b[0msession_id\u001b[0m\u001b[0;34m)\u001b[0m\u001b[0;34m:\u001b[0m\u001b[0;34m\u001b[0m\u001b[0;34m\u001b[0m\u001b[0m\n",
      "\u001b[0;32m/etc/Applications/Anaconda3/lib/python3.7/site-packages/sparkmagic/livyclientlib/reliablehttpclient.py\u001b[0m in \u001b[0;36mget\u001b[0;34m(self, relative_url, accepted_status_codes)\u001b[0m\n\u001b[1;32m     44\u001b[0m     \u001b[0;32mdef\u001b[0m \u001b[0mget\u001b[0m\u001b[0;34m(\u001b[0m\u001b[0mself\u001b[0m\u001b[0;34m,\u001b[0m \u001b[0mrelative_url\u001b[0m\u001b[0;34m,\u001b[0m \u001b[0maccepted_status_codes\u001b[0m\u001b[0;34m)\u001b[0m\u001b[0;34m:\u001b[0m\u001b[0;34m\u001b[0m\u001b[0;34m\u001b[0m\u001b[0m\n\u001b[1;32m     45\u001b[0m         \u001b[0;34m\"\"\"Sends a get request. Returns a response.\"\"\"\u001b[0m\u001b[0;34m\u001b[0m\u001b[0;34m\u001b[0m\u001b[0m\n\u001b[0;32m---> 46\u001b[0;31m         \u001b[0;32mreturn\u001b[0m \u001b[0mself\u001b[0m\u001b[0;34m.\u001b[0m\u001b[0m_send_request\u001b[0m\u001b[0;34m(\u001b[0m\u001b[0mrelative_url\u001b[0m\u001b[0;34m,\u001b[0m \u001b[0maccepted_status_codes\u001b[0m\u001b[0;34m,\u001b[0m \u001b[0mrequests\u001b[0m\u001b[0;34m.\u001b[0m\u001b[0mget\u001b[0m\u001b[0;34m)\u001b[0m\u001b[0;34m\u001b[0m\u001b[0;34m\u001b[0m\u001b[0m\n\u001b[0m\u001b[1;32m     47\u001b[0m \u001b[0;34m\u001b[0m\u001b[0m\n\u001b[1;32m     48\u001b[0m     \u001b[0;32mdef\u001b[0m \u001b[0mpost\u001b[0m\u001b[0;34m(\u001b[0m\u001b[0mself\u001b[0m\u001b[0;34m,\u001b[0m \u001b[0mrelative_url\u001b[0m\u001b[0;34m,\u001b[0m \u001b[0maccepted_status_codes\u001b[0m\u001b[0;34m,\u001b[0m \u001b[0mdata\u001b[0m\u001b[0;34m)\u001b[0m\u001b[0;34m:\u001b[0m\u001b[0;34m\u001b[0m\u001b[0;34m\u001b[0m\u001b[0m\n",
      "\u001b[0;32m/etc/Applications/Anaconda3/lib/python3.7/site-packages/sparkmagic/livyclientlib/reliablehttpclient.py\u001b[0m in \u001b[0;36m_send_request\u001b[0;34m(self, relative_url, accepted_status_codes, function, data)\u001b[0m\n\u001b[1;32m     55\u001b[0m \u001b[0;34m\u001b[0m\u001b[0m\n\u001b[1;32m     56\u001b[0m     \u001b[0;32mdef\u001b[0m \u001b[0m_send_request\u001b[0m\u001b[0;34m(\u001b[0m\u001b[0mself\u001b[0m\u001b[0;34m,\u001b[0m \u001b[0mrelative_url\u001b[0m\u001b[0;34m,\u001b[0m \u001b[0maccepted_status_codes\u001b[0m\u001b[0;34m,\u001b[0m \u001b[0mfunction\u001b[0m\u001b[0;34m,\u001b[0m \u001b[0mdata\u001b[0m\u001b[0;34m=\u001b[0m\u001b[0;32mNone\u001b[0m\u001b[0;34m)\u001b[0m\u001b[0;34m:\u001b[0m\u001b[0;34m\u001b[0m\u001b[0;34m\u001b[0m\u001b[0m\n\u001b[0;32m---> 57\u001b[0;31m         \u001b[0;32mreturn\u001b[0m \u001b[0mself\u001b[0m\u001b[0;34m.\u001b[0m\u001b[0m_send_request_helper\u001b[0m\u001b[0;34m(\u001b[0m\u001b[0mself\u001b[0m\u001b[0;34m.\u001b[0m\u001b[0mcompose_url\u001b[0m\u001b[0;34m(\u001b[0m\u001b[0mrelative_url\u001b[0m\u001b[0;34m)\u001b[0m\u001b[0;34m,\u001b[0m \u001b[0maccepted_status_codes\u001b[0m\u001b[0;34m,\u001b[0m \u001b[0mfunction\u001b[0m\u001b[0;34m,\u001b[0m \u001b[0mdata\u001b[0m\u001b[0;34m,\u001b[0m \u001b[0;36m0\u001b[0m\u001b[0;34m)\u001b[0m\u001b[0;34m\u001b[0m\u001b[0;34m\u001b[0m\u001b[0m\n\u001b[0m\u001b[1;32m     58\u001b[0m \u001b[0;34m\u001b[0m\u001b[0m\n\u001b[1;32m     59\u001b[0m     \u001b[0;32mdef\u001b[0m \u001b[0m_send_request_helper\u001b[0m\u001b[0;34m(\u001b[0m\u001b[0mself\u001b[0m\u001b[0;34m,\u001b[0m \u001b[0murl\u001b[0m\u001b[0;34m,\u001b[0m \u001b[0maccepted_status_codes\u001b[0m\u001b[0;34m,\u001b[0m \u001b[0mfunction\u001b[0m\u001b[0;34m,\u001b[0m \u001b[0mdata\u001b[0m\u001b[0;34m,\u001b[0m \u001b[0mretry_count\u001b[0m\u001b[0;34m)\u001b[0m\u001b[0;34m:\u001b[0m\u001b[0;34m\u001b[0m\u001b[0;34m\u001b[0m\u001b[0m\n",
      "\u001b[0;32m/etc/Applications/Anaconda3/lib/python3.7/site-packages/sparkmagic/livyclientlib/reliablehttpclient.py\u001b[0m in \u001b[0;36m_send_request_helper\u001b[0;34m(self, url, accepted_status_codes, function, data, retry_count)\u001b[0m\n\u001b[1;32m     93\u001b[0m                 \u001b[0;32melse\u001b[0m\u001b[0;34m:\u001b[0m\u001b[0;34m\u001b[0m\u001b[0;34m\u001b[0m\u001b[0m\n\u001b[1;32m     94\u001b[0m                     raise HttpClientException(u\"Invalid status code '{}' from {} with error payload: {}\"\n\u001b[0;32m---> 95\u001b[0;31m                                               .format(status, url, text))\n\u001b[0m\u001b[1;32m     96\u001b[0m             \u001b[0;32mreturn\u001b[0m \u001b[0mr\u001b[0m\u001b[0;34m\u001b[0m\u001b[0;34m\u001b[0m\u001b[0m\n",
      "\u001b[0;31mHttpClientException\u001b[0m: Invalid status code '404' from http://10.34.14.129:8999/sessions/0 with error payload: \"Session '0' not found.\""
     ]
    },
    {
     "name": "stdout",
     "output_type": "stream",
     "text": [
      "Cleaned up endpoint http://10.34.14.129:8999\n",
      "Starting Spark application\n"
     ]
    },
    {
     "data": {
      "text/html": [
       "<table>\n",
       "<tr><th>ID</th><th>YARN Application ID</th><th>Kind</th><th>State</th><th>Spark UI</th><th>Driver log</th><th>Current session?</th></tr><tr><td>74</td><td>application_1551772643782_0017</td><td>pyspark</td><td>idle</td><td><a target=\"_blank\" href=\"http://SYNPUNDT56SZ7R1:8088/proxy/application_1551772643782_0017/\">Link</a></td><td><a target=\"_blank\" href=\"http://SYNPUNDTL90:8042/node/containerlogs/container_e15_1551772643782_0017_01_000001/livy\">Link</a></td><td>✔</td></tr></table>"
      ],
      "text/plain": [
       "<IPython.core.display.HTML object>"
      ]
     },
     "metadata": {},
     "output_type": "display_data"
    },
    {
     "name": "stdout",
     "output_type": "stream",
     "text": [
      "SparkSession available as 'spark'.\n"
     ]
    }
   ],
   "source": [
    "%manage_spark"
   ]
  },
  {
   "cell_type": "code",
   "execution_count": 23,
   "metadata": {
    "ExecuteTime": {
     "end_time": "2019-03-06T09:29:54.061306Z",
     "start_time": "2019-03-06T09:29:53.819799Z"
    }
   },
   "outputs": [],
   "source": [
    "from pyspark.sql.types import StructType, StructField, StringType, DateType, FloatType, IntegerType\n",
    "import pyspark.sql.functions as F"
   ]
  },
  {
   "cell_type": "code",
   "execution_count": 24,
   "metadata": {
    "ExecuteTime": {
     "end_time": "2019-03-06T09:29:59.205406Z",
     "start_time": "2019-03-06T09:29:59.154265Z"
    }
   },
   "outputs": [],
   "source": [
    "schema_acq = [['LoanID', str],\n",
    "              ['Channel', str],\n",
    "              ['SellerName', str],\n",
    "              ['OrInterestRate', float],\n",
    "              ['OrUnpaidPrinc', int],\n",
    "              ['OrLoanTerm', int],\n",
    "              ['OrDate', str],\n",
    "              ['FirstPayment', str],\n",
    "              ['OrLTV', float],\n",
    "              ['OrCLTV', float],\n",
    "              ['NumBorrow', float],\n",
    "              ['DTIRat', float],\n",
    "              ['CreditScore', float],\n",
    "              ['FTHomeBuyer', str],\n",
    "              ['LoanPurpose', str],\n",
    "              ['PropertyType', str],\n",
    "              ['NumUnits', int],\n",
    "              ['OccStatus', str],\n",
    "              ['PropertyState', str],\n",
    "              ['Zip', int],\n",
    "              ['MortInsPerc', float],\n",
    "              ['ProductType', str],\n",
    "              ['CoCreditScore', float],\n",
    "              ['MortInsType', float],\n",
    "              ['RelMortInd', str]]\n",
    "\n",
    "schema_per = [['LoanID', str],\n",
    "              ['ReportingDate', str],\n",
    "              ['Servicer', str],\n",
    "              ['CurrInterestRate', float],\n",
    "              ['CAUPB', float],\n",
    "              ['LoanAge', int],\n",
    "              ['MonthsToMaturity', float],\n",
    "              ['AdMonthsToMaturity', float],\n",
    "              ['MaturityDate', str],\n",
    "              ['MSA', int],\n",
    "              ['CurDelStatus', str],\n",
    "              ['ModFlag', str],\n",
    "              ['ZeroBalCode', float],\n",
    "              ['ZeroBalEffDate', str],\n",
    "              ['LastInstallDate', str],\n",
    "              ['ForeclosureDate', str],\n",
    "              ['DispositionDate', str],\n",
    "              ['ForeclosureCost', float],\n",
    "              ['RepairCost', float],\n",
    "              ['AssetRecCost', float],\n",
    "              ['MiscCostsPF', float],\n",
    "              ['ATFHP', float],\n",
    "              ['NetSaleProceeds', float],\n",
    "              ['CreditEnhProceeds', float],\n",
    "              ['RPMWP', float],\n",
    "              ['OtherForePro', float],\n",
    "              ['NonInterestUPB', float],\n",
    "              ['PricipleForgiven', float],\n",
    "              ['RMWPF', str],\n",
    "              ['FPWA', float],\n",
    "              ['ServicingIndicator', str]]\n"
   ]
  },
  {
   "cell_type": "code",
   "execution_count": 25,
   "metadata": {
    "ExecuteTime": {
     "end_time": "2019-03-06T09:30:01.885018Z",
     "start_time": "2019-03-06T09:30:01.841406Z"
    }
   },
   "outputs": [],
   "source": [
    "schemap = {\n",
    "    str: StringType(),\n",
    "    float: FloatType(),\n",
    "    int: IntegerType()\n",
    "    \n",
    "}"
   ]
  },
  {
   "cell_type": "code",
   "execution_count": 26,
   "metadata": {
    "ExecuteTime": {
     "end_time": "2019-03-06T09:30:11.483886Z",
     "start_time": "2019-03-06T09:30:05.522338Z"
    }
   },
   "outputs": [],
   "source": [
    "schema_acq_spark = StructType([StructField(k, schemap[v], True) for k,v in schema_acq])\n",
    "schema_per_spark = StructType([StructField(k, schemap[v], True) for k,v in schema_per])\n",
    "\n",
    "acq = spark.read.load(\"/Fannie-Mae/2017/Acquisition/\", format=\"csv\", header=\"false\",\n",
    "                     sep='|', schema=schema_acq_spark)\n",
    "\n",
    "per = spark.read.load(\"/Fannie-Mae/2017/Performance/\", format=\"csv\", header=\"false\",\n",
    "                     sep='|', schema=schema_per_spark)\n"
   ]
  },
  {
   "cell_type": "code",
   "execution_count": 27,
   "metadata": {
    "ExecuteTime": {
     "end_time": "2019-03-06T09:41:51.025897Z",
     "start_time": "2019-03-06T09:30:39.849236Z"
    }
   },
   "outputs": [
    {
     "name": "stdout",
     "output_type": "stream",
     "text": [
      "1949478"
     ]
    }
   ],
   "source": [
    "per = per.withColumn('date', F.to_date(per.ReportingDate, 'MM/dd/yyyy')) \\\n",
    "    .drop('ReportingDate') \\\n",
    "    .withColumnRenamed('date', 'ReportingDate') \\\n",
    "    .orderBy(\"LoanID\", F.desc(\"ReportingDate\")) \\\n",
    "    .dropDuplicates([\"LoanID\"])\n",
    "\n",
    "df = acq.join(per, 'LoanID', 'outer')\n",
    "df.write.format('com.databricks.spark.csv').save('/Fannie-Mae/2017/Output.csv')\n",
    "\n",
    "print(df.count())\n",
    "\n"
   ]
  },
  {
   "cell_type": "code",
   "execution_count": null,
   "metadata": {},
   "outputs": [],
   "source": []
  }
 ],
 "metadata": {
  "kernelspec": {
   "display_name": "PySpark",
   "language": "",
   "name": "pysparkkernel"
  },
  "language_info": {
   "codemirror_mode": {
    "name": "python",
    "version": 2
   },
   "mimetype": "text/x-python",
   "name": "pyspark",
   "pygments_lexer": "python2"
  }
 },
 "nbformat": 4,
 "nbformat_minor": 2
}
