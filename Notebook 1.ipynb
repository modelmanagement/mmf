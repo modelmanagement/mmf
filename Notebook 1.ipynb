{
 "cells": [
  {
   "cell_type": "code",
   "execution_count": null,
   "metadata": {
    "ExecuteTime": {
     "end_time": "2019-03-06T07:28:48.814461Z",
     "start_time": "2019-03-06T07:28:48.567741Z"
    }
   },
   "outputs": [],
   "source": [
    "%load_ext sparkmagic.magics"
   ]
  },
  {
   "cell_type": "code",
   "execution_count": null,
   "metadata": {
    "ExecuteTime": {
     "end_time": "2019-03-06T09:27:25.434210Z",
     "start_time": "2019-03-06T09:27:25.397931Z"
    }
   },
   "outputs": [],
   "source": [
    "%manage_spark"
   ]
  },
  {
   "cell_type": "code",
   "execution_count": null,
   "metadata": {
    "ExecuteTime": {
     "end_time": "2019-03-06T09:29:54.061306Z",
     "start_time": "2019-03-06T09:29:53.819799Z"
    }
   },
   "outputs": [],
   "source": [
    "from pyspark.sql.types import StructType, StructField, StringType, DateType, FloatType, IntegerType\n",
    "import pyspark.sql.functions as F"
   ]
  },
  {
   "cell_type": "code",
   "execution_count": null,
   "metadata": {
    "ExecuteTime": {
     "end_time": "2019-03-06T09:29:59.205406Z",
     "start_time": "2019-03-06T09:29:59.154265Z"
    }
   },
   "outputs": [],
   "source": [
    "schema_acq = [['LoanID', str],\n",
    "              ['Channel', str],\n",
    "              ['SellerName', str],\n",
    "              ['OrInterestRate', float],\n",
    "              ['OrUnpaidPrinc', int],\n",
    "              ['OrLoanTerm', int],\n",
    "              ['OrDate', str],\n",
    "              ['FirstPayment', str],\n",
    "              ['OrLTV', float],\n",
    "              ['OrCLTV', float],\n",
    "              ['NumBorrow', float],\n",
    "              ['DTIRat', float],\n",
    "              ['CreditScore', float],\n",
    "              ['FTHomeBuyer', str],\n",
    "              ['LoanPurpose', str],\n",
    "              ['PropertyType', str],\n",
    "              ['NumUnits', int],\n",
    "              ['OccStatus', str],\n",
    "              ['PropertyState', str],\n",
    "              ['Zip', int],\n",
    "              ['MortInsPerc', float],\n",
    "              ['ProductType', str],\n",
    "              ['CoCreditScore', float],\n",
    "              ['MortInsType', float],\n",
    "              ['RelMortInd', str]]\n",
    "\n",
    "schema_per = [['LoanID', str],\n",
    "              ['ReportingDate', str],\n",
    "              ['Servicer', str],\n",
    "              ['CurrInterestRate', float],\n",
    "              ['CAUPB', float],\n",
    "              ['LoanAge', int],\n",
    "              ['MonthsToMaturity', float],\n",
    "              ['AdMonthsToMaturity', float],\n",
    "              ['MaturityDate', str],\n",
    "              ['MSA', int],\n",
    "              ['CurDelStatus', str],\n",
    "              ['ModFlag', str],\n",
    "              ['ZeroBalCode', float],\n",
    "              ['ZeroBalEffDate', str],\n",
    "              ['LastInstallDate', str],\n",
    "              ['ForeclosureDate', str],\n",
    "              ['DispositionDate', str],\n",
    "              ['ForeclosureCost', float],\n",
    "              ['RepairCost', float],\n",
    "              ['AssetRecCost', float],\n",
    "              ['MiscCostsPF', float],\n",
    "              ['ATFHP', float],\n",
    "              ['NetSaleProceeds', float],\n",
    "              ['CreditEnhProceeds', float],\n",
    "              ['RPMWP', float],\n",
    "              ['OtherForePro', float],\n",
    "              ['NonInterestUPB', float],\n",
    "              ['PricipleForgiven', float],\n",
    "              ['RMWPF', str],\n",
    "              ['FPWA', float],\n",
    "              ['ServicingIndicator', str]]\n"
   ]
  },
  {
   "cell_type": "code",
   "execution_count": null,
   "metadata": {
    "ExecuteTime": {
     "end_time": "2019-03-06T09:30:01.885018Z",
     "start_time": "2019-03-06T09:30:01.841406Z"
    }
   },
   "outputs": [],
   "source": [
    "schemap = {\n",
    "    str: StringType(),\n",
    "    float: FloatType(),\n",
    "    int: IntegerType()\n",
    "    \n",
    "}"
   ]
  },
  {
   "cell_type": "code",
   "execution_count": null,
   "metadata": {
    "ExecuteTime": {
     "end_time": "2019-03-06T09:30:11.483886Z",
     "start_time": "2019-03-06T09:30:05.522338Z"
    }
   },
   "outputs": [],
   "source": [
    "schema_acq_spark = StructType([StructField(k, schemap[v], True) for k,v in schema_acq])\n",
    "schema_per_spark = StructType([StructField(k, schemap[v], True) for k,v in schema_per])\n",
    "\n",
    "acq = spark.read.load(\"/Fannie-Mae/2017/Acquisition/\", format=\"csv\", header=\"false\",\n",
    "                     sep='|', schema=schema_acq_spark)\n",
    "\n",
    "per = spark.read.load(\"/Fannie-Mae/2017/Performance/\", format=\"csv\", header=\"false\",\n",
    "                     sep='|', schema=schema_per_spark)\n"
   ]
  },
  {
   "cell_type": "code",
   "execution_count": null,
   "metadata": {
    "ExecuteTime": {
     "end_time": "2019-03-06T09:41:51.025897Z",
     "start_time": "2019-03-06T09:30:39.849236Z"
    }
   },
   "outputs": [],
   "source": [
    "per = per.withColumn('date', F.to_date(per.ReportingDate, 'MM/dd/yyyy')) \\\n",
    "    .drop('ReportingDate') \\\n",
    "    .withColumnRenamed('date', 'ReportingDate') \\\n",
    "    .orderBy(\"LoanID\", F.desc(\"ReportingDate\")) \\\n",
    "    .dropDuplicates([\"LoanID\"])\n",
    "\n",
    "df = acq.join(per, 'LoanID', 'outer')\n",
    "df.write.format('com.databricks.spark.csv').save('/Fannie-Mae/2017/Output.csv')\n",
    "\n",
    "print(df.count())\n",
    "\n"
   ]
  }
 ],
 "metadata": {
  "kernelspec": {
   "display_name": "PySpark",
   "language": "",
   "name": "pysparkkernel"
  },
  "language_info": {
   "codemirror_mode": {
    "name": "python",
    "version": 2
   },
   "mimetype": "text/x-python",
   "name": "pyspark",
   "pygments_lexer": "python2"
  }
 },
 "nbformat": 4,
 "nbformat_minor": 2
}
