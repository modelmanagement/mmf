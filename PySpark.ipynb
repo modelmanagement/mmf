{
 "cells": [
  {
   "cell_type": "code",
   "execution_count": 5,
   "metadata": {},
   "outputs": [
    {
     "name": "stdout",
     "output_type": "stream",
     "text": [
      "The sparkmagic.magics extension is already loaded. To reload it, use:\n",
      "  %reload_ext sparkmagic.magics\n"
     ]
    }
   ],
   "source": [
    "%load_ext sparkmagic.magics"
   ]
  },
  {
   "cell_type": "code",
   "execution_count": 6,
   "metadata": {},
   "outputs": [
    {
     "data": {
      "application/vnd.jupyter.widget-view+json": {
       "model_id": "6b4cb7f070134ac0a6f6180b431b34a1",
       "version_major": 2,
       "version_minor": 0
      },
      "text/plain": [
       "MagicsControllerWidget(children=(Tab(children=(ManageSessionWidget(children=(HTML(value='<br/>'), HTML(value='…"
      ]
     },
     "metadata": {},
     "output_type": "display_data"
    },
    {
     "name": "stdout",
     "output_type": "stream",
     "text": [
      "Added endpoint http://10.34.14.129:8999\n",
      "Starting Spark application\n"
     ]
    },
    {
     "data": {
      "text/html": [
       "<table>\n",
       "<tr><th>ID</th><th>YARN Application ID</th><th>Kind</th><th>State</th><th>Spark UI</th><th>Driver log</th><th>Current session?</th></tr><tr><td>19</td><td>application_1549965252450_0011</td><td>pyspark</td><td>idle</td><td><a target=\"_blank\" href=\"http://SYNPUNDT56SZ7R1:8088/proxy/application_1549965252450_0011/\">Link</a></td><td><a target=\"_blank\" href=\"http://SYNPUNDTL902091:8042/node/containerlogs/container_e08_1549965252450_0011_01_000001/livy\">Link</a></td><td>✔</td></tr></table>"
      ],
      "text/plain": [
       "<IPython.core.display.HTML object>"
      ]
     },
     "metadata": {},
     "output_type": "display_data"
    },
    {
     "name": "stdout",
     "output_type": "stream",
     "text": [
      "SparkSession available as 'spark'.\n"
     ]
    }
   ],
   "source": [
    "%manage_spark"
   ]
  },
  {
   "cell_type": "code",
   "execution_count": 7,
   "metadata": {},
   "outputs": [],
   "source": [
    "rdd = sc.textFile(\"/Fannie-Mae/2015Q1/Acquisition_2015Q1.txt\")"
   ]
  },
  {
   "cell_type": "code",
   "execution_count": 46,
   "metadata": {},
   "outputs": [],
   "source": [
    "class Aquisition:\n",
    "  def __init__(self, LOAN_IDENTIFIER, ORIGINATION_CHANNEL, SELLER_NAME, ORIGINAL_INTEREST_RATE, ORIGINAL_UPB, ORIGINAL_LOAN_TERM, ORIGINATION_DATE, FIRST_PAYMENT_DATE, LTV, CLTV, NUMBER_OF_BORROWERS, ORIGINAL_DEBT_TO_INCOME_RATIO, BORROWER_CREDIT_SCORE_AT_ORIGINATION, FIRST_TIME_HOME_BUYER_INDICATOR, LOAN_PURPOSE, PROPERTY_TYPE, NUMBER_OF_UNITS, OCCUPANCY_TYPE, PROPERTY_STATE, ZIP_CODE_SHORT, PRIMARY_MORTGAGE_INSURANCE_PERCENT, PRODUCT_TYPE, CO_BORROWER_CREDIT_SCORE_AT_ORIGINATION, MORTGAGE_INSURANCE_TYPE, RELOCATION_MORTGAGE_INDICATOR\n",
    "):\n",
    "        self.ORIGINATION_CHANNEL = ORIGINATION_CHANNEL\n",
    "        self.SELLER_NAME = SELLER_NAME\n",
    "        self.ORIGINAL_INTEREST_RATE = ORIGINAL_INTEREST_RATE\n",
    "        self.ORIGINAL_UPB = ORIGINAL_UPB\n",
    "        self.ORIGINAL_LOAN_TERM = ORIGINAL_LOAN_TERM\n",
    "        self.ORIGINATION_DATE = ORIGINATION_DATE\n",
    "        self.FIRST_PAYMENT_DATE = FIRST_PAYMENT_DATE\n",
    "        self.LTV = LTV\n",
    "        self.CLTV = CLTV\n",
    "        self.NUMBER_OF_BORROWERS = NUMBER_OF_BORROWERS\n",
    "        self.ORIGINAL_DEBT_TO_INCOME_RATIO = ORIGINAL_DEBT_TO_INCOME_RATIO\n",
    "        self.BORROWER_CREDIT_SCORE_AT_ORIGINATION = BORROWER_CREDIT_SCORE_AT_ORIGINATION\n",
    "        self.FIRST_TIME_HOME_BUYER_INDICATOR = FIRST_TIME_HOME_BUYER_INDICATOR\n",
    "        self.LOAN_PURPOSE = LOAN_PURPOSE\n",
    "        self.PROPERTY_TYPE = PROPERTY_TYPE\n",
    "        self.NUMBER_OF_UNITS = NUMBER_OF_UNITS\n",
    "        self.OCCUPANCY_TYPE = OCCUPANCY_TYPE\n",
    "        self.PROPERTY_STATE = PROPERTY_STATE\n",
    "        self.ZIP_CODE_SHORT = ZIP_CODE_SHORT\n",
    "        self.PRIMARY_MORTGAGE_INSURANCE_PERCENT = PRIMARY_MORTGAGE_INSURANCE_PERCENT\n",
    "        self.PRODUCT_TYPE = PRODUCT_TYPE\n",
    "        self.CO_BORROWER_CREDIT_SCORE_AT_ORIGINATION = CO_BORROWER_CREDIT_SCORE_AT_ORIGINATION\n",
    "        self.MORTGAGE_INSURANCE_TYPE = MORTGAGE_INSURANCE_TYPE\n",
    "        self.RELOCATION_MORTGAGE_INDICATOR = RELOCATION_MORTGAGE_INDICATOR"
   ]
  },
  {
   "cell_type": "code",
   "execution_count": 47,
   "metadata": {},
   "outputs": [],
   "source": [
    "def splitter(line):\n",
    "  splitValues = line.split(\"|\")\n",
    "  return Aquisition(splitValues)"
   ]
  },
  {
   "cell_type": "code",
   "execution_count": 48,
   "metadata": {},
   "outputs": [
    {
     "name": "stderr",
     "output_type": "stream",
     "text": [
      "An error occurred while calling z:org.apache.spark.api.python.PythonRDD.runJob.\n",
      ": org.apache.spark.SparkException: Job aborted due to stage failure: Task 0 in stage 12.0 failed 4 times, most recent failure: Lost task 0.3 in stage 12.0 (TID 16, SYNPUNDTL902091, executor 1): org.apache.spark.api.python.PythonException: Traceback (most recent call last):\n",
      "  File \"/hadoop/yarn/local/usercache/livy/appcache/application_1549965252450_0011/container_e08_1549965252450_0011_01_000002/pyspark.zip/pyspark/worker.py\", line 235, in main\n",
      "    process()\n",
      "  File \"/hadoop/yarn/local/usercache/livy/appcache/application_1549965252450_0011/container_e08_1549965252450_0011_01_000002/pyspark.zip/pyspark/worker.py\", line 230, in process\n",
      "    serializer.dump_stream(func(split_index, iterator), outfile)\n",
      "  File \"/hadoop/yarn/local/usercache/livy/appcache/application_1549965252450_0011/container_e08_1549965252450_0011_01_000002/pyspark.zip/pyspark/serializers.py\", line 379, in dump_stream\n",
      "    vs = list(itertools.islice(iterator, batch))\n",
      "  File \"/hadoop/yarn/local/usercache/livy/appcache/application_1549965252450_0011/container_e08_1549965252450_0011_01_000001/pyspark.zip/pyspark/rdd.py\", line 1372, in takeUpToNumLeft\n",
      "  File \"/hadoop/yarn/local/usercache/livy/appcache/application_1549965252450_0011/container_e08_1549965252450_0011_01_000002/pyspark.zip/pyspark/util.py\", line 55, in wrapper\n",
      "    return f(*args, **kwargs)\n",
      "  File \"<stdin>\", line 3, in splitter\n",
      "TypeError: __init__() takes exactly 26 arguments (2 given)\n",
      "\n",
      "\tat org.apache.spark.api.python.BasePythonRunner$ReaderIterator.handlePythonException(PythonRunner.scala:298)\n",
      "\tat org.apache.spark.api.python.PythonRunner$$anon$1.read(PythonRunner.scala:438)\n",
      "\tat org.apache.spark.api.python.PythonRunner$$anon$1.read(PythonRunner.scala:421)\n",
      "\tat org.apache.spark.api.python.BasePythonRunner$ReaderIterator.hasNext(PythonRunner.scala:252)\n",
      "\tat org.apache.spark.InterruptibleIterator.hasNext(InterruptibleIterator.scala:37)\n",
      "\tat scala.collection.Iterator$class.foreach(Iterator.scala:893)\n",
      "\tat org.apache.spark.InterruptibleIterator.foreach(InterruptibleIterator.scala:28)\n",
      "\tat scala.collection.generic.Growable$class.$plus$plus$eq(Growable.scala:59)\n",
      "\tat scala.collection.mutable.ArrayBuffer.$plus$plus$eq(ArrayBuffer.scala:104)\n",
      "\tat scala.collection.mutable.ArrayBuffer.$plus$plus$eq(ArrayBuffer.scala:48)\n",
      "\tat scala.collection.TraversableOnce$class.to(TraversableOnce.scala:310)\n",
      "\tat org.apache.spark.InterruptibleIterator.to(InterruptibleIterator.scala:28)\n",
      "\tat scala.collection.TraversableOnce$class.toBuffer(TraversableOnce.scala:302)\n",
      "\tat org.apache.spark.InterruptibleIterator.toBuffer(InterruptibleIterator.scala:28)\n",
      "\tat scala.collection.TraversableOnce$class.toArray(TraversableOnce.scala:289)\n",
      "\tat org.apache.spark.InterruptibleIterator.toArray(InterruptibleIterator.scala:28)\n",
      "\tat org.apache.spark.api.python.PythonRDD$$anonfun$3.apply(PythonRDD.scala:149)\n",
      "\tat org.apache.spark.api.python.PythonRDD$$anonfun$3.apply(PythonRDD.scala:149)\n",
      "\tat org.apache.spark.SparkContext$$anonfun$runJob$5.apply(SparkContext.scala:2074)\n",
      "\tat org.apache.spark.SparkContext$$anonfun$runJob$5.apply(SparkContext.scala:2074)\n",
      "\tat org.apache.spark.scheduler.ResultTask.runTask(ResultTask.scala:87)\n",
      "\tat org.apache.spark.scheduler.Task.run(Task.scala:109)\n",
      "\tat org.apache.spark.executor.Executor$TaskRunner.run(Executor.scala:345)\n",
      "\tat java.util.concurrent.ThreadPoolExecutor.runWorker(ThreadPoolExecutor.java:1149)\n",
      "\tat java.util.concurrent.ThreadPoolExecutor$Worker.run(ThreadPoolExecutor.java:624)\n",
      "\tat java.lang.Thread.run(Thread.java:748)\n",
      "\n",
      "Driver stacktrace:\n",
      "\tat org.apache.spark.scheduler.DAGScheduler.org$apache$spark$scheduler$DAGScheduler$$failJobAndIndependentStages(DAGScheduler.scala:1609)\n",
      "\tat org.apache.spark.scheduler.DAGScheduler$$anonfun$abortStage$1.apply(DAGScheduler.scala:1597)\n",
      "\tat org.apache.spark.scheduler.DAGScheduler$$anonfun$abortStage$1.apply(DAGScheduler.scala:1596)\n",
      "\tat scala.collection.mutable.ResizableArray$class.foreach(ResizableArray.scala:59)\n",
      "\tat scala.collection.mutable.ArrayBuffer.foreach(ArrayBuffer.scala:48)\n",
      "\tat org.apache.spark.scheduler.DAGScheduler.abortStage(DAGScheduler.scala:1596)\n",
      "\tat org.apache.spark.scheduler.DAGScheduler$$anonfun$handleTaskSetFailed$1.apply(DAGScheduler.scala:831)\n",
      "\tat org.apache.spark.scheduler.DAGScheduler$$anonfun$handleTaskSetFailed$1.apply(DAGScheduler.scala:831)\n",
      "\tat scala.Option.foreach(Option.scala:257)\n",
      "\tat org.apache.spark.scheduler.DAGScheduler.handleTaskSetFailed(DAGScheduler.scala:831)\n",
      "\tat org.apache.spark.scheduler.DAGSchedulerEventProcessLoop.doOnReceive(DAGScheduler.scala:1830)\n",
      "\tat org.apache.spark.scheduler.DAGSchedulerEventProcessLoop.onReceive(DAGScheduler.scala:1779)\n",
      "\tat org.apache.spark.scheduler.DAGSchedulerEventProcessLoop.onReceive(DAGScheduler.scala:1768)\n",
      "\tat org.apache.spark.util.EventLoop$$anon$1.run(EventLoop.scala:48)\n",
      "\tat org.apache.spark.scheduler.DAGScheduler.runJob(DAGScheduler.scala:642)\n",
      "\tat org.apache.spark.SparkContext.runJob(SparkContext.scala:2034)\n",
      "\tat org.apache.spark.SparkContext.runJob(SparkContext.scala:2055)\n",
      "\tat org.apache.spark.SparkContext.runJob(SparkContext.scala:2074)\n",
      "\tat org.apache.spark.api.python.PythonRDD$.runJob(PythonRDD.scala:149)\n",
      "\tat org.apache.spark.api.python.PythonRDD.runJob(PythonRDD.scala)\n",
      "\tat sun.reflect.NativeMethodAccessorImpl.invoke0(Native Method)\n",
      "\tat sun.reflect.NativeMethodAccessorImpl.invoke(NativeMethodAccessorImpl.java:62)\n",
      "\tat sun.reflect.DelegatingMethodAccessorImpl.invoke(DelegatingMethodAccessorImpl.java:43)\n",
      "\tat java.lang.reflect.Method.invoke(Method.java:498)\n",
      "\tat py4j.reflection.MethodInvoker.invoke(MethodInvoker.java:244)\n",
      "\tat py4j.reflection.ReflectionEngine.invoke(ReflectionEngine.java:357)\n",
      "\tat py4j.Gateway.invoke(Gateway.java:282)\n",
      "\tat py4j.commands.AbstractCommand.invokeMethod(AbstractCommand.java:132)\n",
      "\tat py4j.commands.CallCommand.execute(CallCommand.java:79)\n",
      "\tat py4j.GatewayConnection.run(GatewayConnection.java:238)\n",
      "\tat java.lang.Thread.run(Thread.java:748)\n",
      "Caused by: org.apache.spark.api.python.PythonException: Traceback (most recent call last):\n",
      "  File \"/hadoop/yarn/local/usercache/livy/appcache/application_1549965252450_0011/container_e08_1549965252450_0011_01_000002/pyspark.zip/pyspark/worker.py\", line 235, in main\n",
      "    process()\n",
      "  File \"/hadoop/yarn/local/usercache/livy/appcache/application_1549965252450_0011/container_e08_1549965252450_0011_01_000002/pyspark.zip/pyspark/worker.py\", line 230, in process\n",
      "    serializer.dump_stream(func(split_index, iterator), outfile)\n",
      "  File \"/hadoop/yarn/local/usercache/livy/appcache/application_1549965252450_0011/container_e08_1549965252450_0011_01_000002/pyspark.zip/pyspark/serializers.py\", line 379, in dump_stream\n",
      "    vs = list(itertools.islice(iterator, batch))\n",
      "  File \"/hadoop/yarn/local/usercache/livy/appcache/application_1549965252450_0011/container_e08_1549965252450_0011_01_000001/pyspark.zip/pyspark/rdd.py\", line 1372, in takeUpToNumLeft\n",
      "  File \"/hadoop/yarn/local/usercache/livy/appcache/application_1549965252450_0011/container_e08_1549965252450_0011_01_000002/pyspark.zip/pyspark/util.py\", line 55, in wrapper\n",
      "    return f(*args, **kwargs)\n",
      "  File \"<stdin>\", line 3, in splitter\n",
      "TypeError: __init__() takes exactly 26 arguments (2 given)\n",
      "\n",
      "\tat org.apache.spark.api.python.BasePythonRunner$ReaderIterator.handlePythonException(PythonRunner.scala:298)\n",
      "\tat org.apache.spark.api.python.PythonRunner$$anon$1.read(PythonRunner.scala:438)\n",
      "\tat org.apache.spark.api.python.PythonRunner$$anon$1.read(PythonRunner.scala:421)\n",
      "\tat org.apache.spark.api.python.BasePythonRunner$ReaderIterator.hasNext(PythonRunner.scala:252)\n",
      "\tat org.apache.spark.InterruptibleIterator.hasNext(InterruptibleIterator.scala:37)\n",
      "\tat scala.collection.Iterator$class.foreach(Iterator.scala:893)\n",
      "\tat org.apache.spark.InterruptibleIterator.foreach(InterruptibleIterator.scala:28)\n",
      "\tat scala.collection.generic.Growable$class.$plus$plus$eq(Growable.scala:59)\n",
      "\tat scala.collection.mutable.ArrayBuffer.$plus$plus$eq(ArrayBuffer.scala:104)\n",
      "\tat scala.collection.mutable.ArrayBuffer.$plus$plus$eq(ArrayBuffer.scala:48)\n",
      "\tat scala.collection.TraversableOnce$class.to(TraversableOnce.scala:310)\n",
      "\tat org.apache.spark.InterruptibleIterator.to(InterruptibleIterator.scala:28)\n",
      "\tat scala.collection.TraversableOnce$class.toBuffer(TraversableOnce.scala:302)\n",
      "\tat org.apache.spark.InterruptibleIterator.toBuffer(InterruptibleIterator.scala:28)\n",
      "\tat scala.collection.TraversableOnce$class.toArray(TraversableOnce.scala:289)\n",
      "\tat org.apache.spark.InterruptibleIterator.toArray(InterruptibleIterator.scala:28)\n",
      "\tat org.apache.spark.api.python.PythonRDD$$anonfun$3.apply(PythonRDD.scala:149)\n",
      "\tat org.apache.spark.api.python.PythonRDD$$anonfun$3.apply(PythonRDD.scala:149)\n",
      "\tat org.apache.spark.SparkContext$$anonfun$runJob$5.apply(SparkContext.scala:2074)\n",
      "\tat org.apache.spark.SparkContext$$anonfun$runJob$5.apply(SparkContext.scala:2074)\n",
      "\tat org.apache.spark.scheduler.ResultTask.runTask(ResultTask.scala:87)\n",
      "\tat org.apache.spark.scheduler.Task.run(Task.scala:109)\n",
      "\tat org.apache.spark.executor.Executor$TaskRunner.run(Executor.scala:345)\n",
      "\tat java.util.concurrent.ThreadPoolExecutor.runWorker(ThreadPoolExecutor.java:1149)\n",
      "\tat java.util.concurrent.ThreadPoolExecutor$Worker.run(ThreadPoolExecutor.java:624)\n",
      "\t... 1 more\n",
      "\n",
      "Traceback (most recent call last):\n",
      "  File \"/hadoop/yarn/local/usercache/livy/appcache/application_1549965252450_0011/container_e08_1549965252450_0011_01_000001/pyspark.zip/pyspark/rdd.py\", line 1378, in take\n",
      "    res = self.context.runJob(self, takeUpToNumLeft, p)\n",
      "  File \"/hadoop/yarn/local/usercache/livy/appcache/application_1549965252450_0011/container_e08_1549965252450_0011_01_000001/pyspark.zip/pyspark/context.py\", line 1023, in runJob\n",
      "    sock_info = self._jvm.PythonRDD.runJob(self._jsc.sc(), mappedRDD._jrdd, partitions)\n",
      "  File \"/hadoop/yarn/local/usercache/livy/appcache/application_1549965252450_0011/container_e08_1549965252450_0011_01_000001/py4j-0.10.7-src.zip/py4j/java_gateway.py\", line 1257, in __call__\n",
      "    answer, self.gateway_client, self.target_id, self.name)\n",
      "  File \"/hadoop/yarn/local/usercache/livy/appcache/application_1549965252450_0011/container_e08_1549965252450_0011_01_000001/pyspark.zip/pyspark/sql/utils.py\", line 63, in deco\n",
      "    return f(*a, **kw)\n",
      "  File \"/hadoop/yarn/local/usercache/livy/appcache/application_1549965252450_0011/container_e08_1549965252450_0011_01_000001/py4j-0.10.7-src.zip/py4j/protocol.py\", line 328, in get_return_value\n",
      "    format(target_id, \".\", name), value)\n",
      "Py4JJavaError: An error occurred while calling z:org.apache.spark.api.python.PythonRDD.runJob.\n",
      ": org.apache.spark.SparkException: Job aborted due to stage failure: Task 0 in stage 12.0 failed 4 times, most recent failure: Lost task 0.3 in stage 12.0 (TID 16, SYNPUNDTL902091, executor 1): org.apache.spark.api.python.PythonException: Traceback (most recent call last):\n",
      "  File \"/hadoop/yarn/local/usercache/livy/appcache/application_1549965252450_0011/container_e08_1549965252450_0011_01_000002/pyspark.zip/pyspark/worker.py\", line 235, in main\n",
      "    process()\n",
      "  File \"/hadoop/yarn/local/usercache/livy/appcache/application_1549965252450_0011/container_e08_1549965252450_0011_01_000002/pyspark.zip/pyspark/worker.py\", line 230, in process\n",
      "    serializer.dump_stream(func(split_index, iterator), outfile)\n",
      "  File \"/hadoop/yarn/local/usercache/livy/appcache/application_1549965252450_0011/container_e08_1549965252450_0011_01_000002/pyspark.zip/pyspark/serializers.py\", line 379, in dump_stream\n",
      "    vs = list(itertools.islice(iterator, batch))\n",
      "  File \"/hadoop/yarn/local/usercache/livy/appcache/application_1549965252450_0011/container_e08_1549965252450_0011_01_000001/pyspark.zip/pyspark/rdd.py\", line 1372, in takeUpToNumLeft\n",
      "  File \"/hadoop/yarn/local/usercache/livy/appcache/application_1549965252450_0011/container_e08_1549965252450_0011_01_000002/pyspark.zip/pyspark/util.py\", line 55, in wrapper\n",
      "    return f(*args, **kwargs)\n",
      "  File \"<stdin>\", line 3, in splitter\n",
      "TypeError: __init__() takes exactly 26 arguments (2 given)\n",
      "\n",
      "\tat org.apache.spark.api.python.BasePythonRunner$ReaderIterator.handlePythonException(PythonRunner.scala:298)\n",
      "\tat org.apache.spark.api.python.PythonRunner$$anon$1.read(PythonRunner.scala:438)\n",
      "\tat org.apache.spark.api.python.PythonRunner$$anon$1.read(PythonRunner.scala:421)\n",
      "\tat org.apache.spark.api.python.BasePythonRunner$ReaderIterator.hasNext(PythonRunner.scala:252)\n",
      "\tat org.apache.spark.InterruptibleIterator.hasNext(InterruptibleIterator.scala:37)\n",
      "\tat scala.collection.Iterator$class.foreach(Iterator.scala:893)\n",
      "\tat org.apache.spark.InterruptibleIterator.foreach(InterruptibleIterator.scala:28)\n",
      "\tat scala.collection.generic.Growable$class.$plus$plus$eq(Growable.scala:59)\n",
      "\tat scala.collection.mutable.ArrayBuffer.$plus$plus$eq(ArrayBuffer.scala:104)\n",
      "\tat scala.collection.mutable.ArrayBuffer.$plus$plus$eq(ArrayBuffer.scala:48)\n",
      "\tat scala.collection.TraversableOnce$class.to(TraversableOnce.scala:310)\n",
      "\tat org.apache.spark.InterruptibleIterator.to(InterruptibleIterator.scala:28)\n",
      "\tat scala.collection.TraversableOnce$class.toBuffer(TraversableOnce.scala:302)\n",
      "\tat org.apache.spark.InterruptibleIterator.toBuffer(InterruptibleIterator.scala:28)\n",
      "\tat scala.collection.TraversableOnce$class.toArray(TraversableOnce.scala:289)\n",
      "\tat org.apache.spark.InterruptibleIterator.toArray(InterruptibleIterator.scala:28)\n",
      "\tat org.apache.spark.api.python.PythonRDD$$anonfun$3.apply(PythonRDD.scala:149)\n",
      "\tat org.apache.spark.api.python.PythonRDD$$anonfun$3.apply(PythonRDD.scala:149)\n",
      "\tat org.apache.spark.SparkContext$$anonfun$runJob$5.apply(SparkContext.scala:2074)\n",
      "\tat org.apache.spark.SparkContext$$anonfun$runJob$5.apply(SparkContext.scala:2074)\n",
      "\tat org.apache.spark.scheduler.ResultTask.runTask(ResultTask.scala:87)\n",
      "\tat org.apache.spark.scheduler.Task.run(Task.scala:109)\n",
      "\tat org.apache.spark.executor.Executor$TaskRunner.run(Executor.scala:345)\n",
      "\tat java.util.concurrent.ThreadPoolExecutor.runWorker(ThreadPoolExecutor.java:1149)\n",
      "\tat java.util.concurrent.ThreadPoolExecutor$Worker.run(ThreadPoolExecutor.java:624)\n",
      "\tat java.lang.Thread.run(Thread.java:748)\n",
      "\n",
      "Driver stacktrace:\n",
      "\tat org.apache.spark.scheduler.DAGScheduler.org$apache$spark$scheduler$DAGScheduler$$failJobAndIndependentStages(DAGScheduler.scala:1609)\n",
      "\tat org.apache.spark.scheduler.DAGScheduler$$anonfun$abortStage$1.apply(DAGScheduler.scala:1597)\n",
      "\tat org.apache.spark.scheduler.DAGScheduler$$anonfun$abortStage$1.apply(DAGScheduler.scala:1596)\n",
      "\tat scala.collection.mutable.ResizableArray$class.foreach(ResizableArray.scala:59)\n",
      "\tat scala.collection.mutable.ArrayBuffer.foreach(ArrayBuffer.scala:48)\n",
      "\tat org.apache.spark.scheduler.DAGScheduler.abortStage(DAGScheduler.scala:1596)\n",
      "\tat org.apache.spark.scheduler.DAGScheduler$$anonfun$handleTaskSetFailed$1.apply(DAGScheduler.scala:831)\n",
      "\tat org.apache.spark.scheduler.DAGScheduler$$anonfun$handleTaskSetFailed$1.apply(DAGScheduler.scala:831)\n",
      "\tat scala.Option.foreach(Option.scala:257)\n",
      "\tat org.apache.spark.scheduler.DAGScheduler.handleTaskSetFailed(DAGScheduler.scala:831)\n",
      "\tat org.apache.spark.scheduler.DAGSchedulerEventProcessLoop.doOnReceive(DAGScheduler.scala:1830)\n",
      "\tat org.apache.spark.scheduler.DAGSchedulerEventProcessLoop.onReceive(DAGScheduler.scala:1779)\n",
      "\tat org.apache.spark.scheduler.DAGSchedulerEventProcessLoop.onReceive(DAGScheduler.scala:1768)\n",
      "\tat org.apache.spark.util.EventLoop$$anon$1.run(EventLoop.scala:48)\n",
      "\tat org.apache.spark.scheduler.DAGScheduler.runJob(DAGScheduler.scala:642)\n",
      "\tat org.apache.spark.SparkContext.runJob(SparkContext.scala:2034)\n",
      "\tat org.apache.spark.SparkContext.runJob(SparkContext.scala:2055)\n",
      "\tat org.apache.spark.SparkContext.runJob(SparkContext.scala:2074)\n",
      "\tat org.apache.spark.api.python.PythonRDD$.runJob(PythonRDD.scala:149)\n",
      "\tat org.apache.spark.api.python.PythonRDD.runJob(PythonRDD.scala)\n",
      "\tat sun.reflect.NativeMethodAccessorImpl.invoke0(Native Method)\n",
      "\tat sun.reflect.NativeMethodAccessorImpl.invoke(NativeMethodAccessorImpl.java:62)\n",
      "\tat sun.reflect.DelegatingMethodAccessorImpl.invoke(DelegatingMethodAccessorImpl.java:43)\n",
      "\tat java.lang.reflect.Method.invoke(Method.java:498)\n",
      "\tat py4j.reflection.MethodInvoker.invoke(MethodInvoker.java:244)\n",
      "\tat py4j.reflection.ReflectionEngine.invoke(ReflectionEngine.java:357)\n",
      "\tat py4j.Gateway.invoke(Gateway.java:282)\n",
      "\tat py4j.commands.AbstractCommand.invokeMethod(AbstractCommand.java:132)\n",
      "\tat py4j.commands.CallCommand.execute(CallCommand.java:79)\n",
      "\tat py4j.GatewayConnection.run(GatewayConnection.java:238)\n",
      "\tat java.lang.Thread.run(Thread.java:748)\n",
      "Caused by: org.apache.spark.api.python.PythonException: Traceback (most recent call last):\n",
      "  File \"/hadoop/yarn/local/usercache/livy/appcache/application_1549965252450_0011/container_e08_1549965252450_0011_01_000002/pyspark.zip/pyspark/worker.py\", line 235, in main\n",
      "    process()\n",
      "  File \"/hadoop/yarn/local/usercache/livy/appcache/application_1549965252450_0011/container_e08_1549965252450_0011_01_000002/pyspark.zip/pyspark/worker.py\", line 230, in process\n",
      "    serializer.dump_stream(func(split_index, iterator), outfile)\n",
      "  File \"/hadoop/yarn/local/usercache/livy/appcache/application_1549965252450_0011/container_e08_1549965252450_0011_01_000002/pyspark.zip/pyspark/serializers.py\", line 379, in dump_stream\n",
      "    vs = list(itertools.islice(iterator, batch))\n",
      "  File \"/hadoop/yarn/local/usercache/livy/appcache/application_1549965252450_0011/container_e08_1549965252450_0011_01_000001/pyspark.zip/pyspark/rdd.py\", line 1372, in takeUpToNumLeft\n",
      "  File \"/hadoop/yarn/local/usercache/livy/appcache/application_1549965252450_0011/container_e08_1549965252450_0011_01_000002/pyspark.zip/pyspark/util.py\", line 55, in wrapper\n",
      "    return f(*args, **kwargs)\n",
      "  File \"<stdin>\", line 3, in splitter\n",
      "TypeError: __init__() takes exactly 26 arguments (2 given)\n",
      "\n",
      "\tat org.apache.spark.api.python.BasePythonRunner$ReaderIterator.handlePythonException(PythonRunner.scala:298)\n",
      "\tat org.apache.spark.api.python.PythonRunner$$anon$1.read(PythonRunner.scala:438)\n",
      "\tat org.apache.spark.api.python.PythonRunner$$anon$1.read(PythonRunner.scala:421)\n",
      "\tat org.apache.spark.api.python.BasePythonRunner$ReaderIterator.hasNext(PythonRunner.scala:252)\n",
      "\tat org.apache.spark.InterruptibleIterator.hasNext(InterruptibleIterator.scala:37)\n",
      "\tat scala.collection.Iterator$class.foreach(Iterator.scala:893)\n",
      "\tat org.apache.spark.InterruptibleIterator.foreach(InterruptibleIterator.scala:28)\n",
      "\tat scala.collection.generic.Growable$class.$plus$plus$eq(Growable.scala:59)\n",
      "\tat scala.collection.mutable.ArrayBuffer.$plus$plus$eq(ArrayBuffer.scala:104)\n",
      "\tat scala.collection.mutable.ArrayBuffer.$plus$plus$eq(ArrayBuffer.scala:48)\n",
      "\tat scala.collection.TraversableOnce$class.to(TraversableOnce.scala:310)\n",
      "\tat org.apache.spark.InterruptibleIterator.to(InterruptibleIterator.scala:28)\n",
      "\tat scala.collection.TraversableOnce$class.toBuffer(TraversableOnce.scala:302)\n",
      "\tat org.apache.spark.InterruptibleIterator.toBuffer(InterruptibleIterator.scala:28)\n",
      "\tat scala.collection.TraversableOnce$class.toArray(TraversableOnce.scala:289)\n",
      "\tat org.apache.spark.InterruptibleIterator.toArray(InterruptibleIterator.scala:28)\n",
      "\tat org.apache.spark.api.python.PythonRDD$$anonfun$3.apply(PythonRDD.scala:149)\n",
      "\tat org.apache.spark.api.python.PythonRDD$$anonfun$3.apply(PythonRDD.scala:149)\n",
      "\tat org.apache.spark.SparkContext$$anonfun$runJob$5.apply(SparkContext.scala:2074)\n",
      "\tat org.apache.spark.SparkContext$$anonfun$runJob$5.apply(SparkContext.scala:2074)\n",
      "\tat org.apache.spark.scheduler.ResultTask.runTask(ResultTask.scala:87)\n",
      "\tat org.apache.spark.scheduler.Task.run(Task.scala:109)\n",
      "\tat org.apache.spark.executor.Executor$TaskRunner.run(Executor.scala:345)\n",
      "\tat java.util.concurrent.ThreadPoolExecutor.runWorker(ThreadPoolExecutor.java:1149)\n",
      "\tat java.util.concurrent.ThreadPoolExecutor$Worker.run(ThreadPoolExecutor.java:624)\n",
      "\t... 1 more\n",
      "\n",
      "\n"
     ]
    }
   ],
   "source": [
    "rdd.map(splitter).take(2)"
   ]
  },
  {
   "cell_type": "code",
   "execution_count": 34,
   "metadata": {},
   "outputs": [
    {
     "name": "stderr",
     "output_type": "stream",
     "text": [
      "name 'Aquisition' is not defined\n",
      "Traceback (most recent call last):\n",
      "NameError: name 'Aquisition' is not defined\n",
      "\n"
     ]
    }
   ],
   "source": [
    "Aquisition(a)"
   ]
  },
  {
   "cell_type": "code",
   "execution_count": 27,
   "metadata": {},
   "outputs": [],
   "source": [
    "rdd.take(1)"
   ]
  },
  {
   "cell_type": "code",
   "execution_count": 28,
   "metadata": {},
   "outputs": [
    {
     "name": "stdout",
     "output_type": "stream",
     "text": [
      "[25, 25]"
     ]
    }
   ],
   "source": [
    "splitLength = lambda line : len(line.split(\"|\"))"
   ]
  },
  {
   "cell_type": "code",
   "execution_count": null,
   "metadata": {},
   "outputs": [],
   "source": [
    "rdd.map(splitLength).take(2)"
   ]
  }
 ],
 "metadata": {
  "kernelspec": {
   "display_name": "PySpark",
   "language": "",
   "name": "pysparkkernel"
  },
  "language_info": {
   "codemirror_mode": {
    "name": "python",
    "version": 2
   },
   "mimetype": "text/x-python",
   "name": "pyspark",
   "pygments_lexer": "python2"
  }
 },
 "nbformat": 4,
 "nbformat_minor": 2
}
